{
 "cells": [
  {
   "cell_type": "code",
   "execution_count": 2,
   "id": "04783ad9",
   "metadata": {},
   "outputs": [
    {
     "data": {
      "text/html": [
       "<style>.container { width:100% !important; }</style>"
      ],
      "text/plain": [
       "<IPython.core.display.HTML object>"
      ]
     },
     "metadata": {},
     "output_type": "display_data"
    }
   ],
   "source": [
    "import pandas as pd\n",
    "import numpy as np\n",
    "import matplotlib.pyplot as plt\n",
    "import seaborn as sns\n",
    "from IPython.display import display, HTML\n",
    "display(HTML(\"<style>.container { width:100% !important; }</style>\"))\n",
    "import random\n",
    "from IPython.display import display,clear_output\n",
    "import plotly.express as px\n",
    "import os\n",
    "from datetime import datetime,timedelta\n",
    "from random import randrange,uniform,choice\n",
    "import string\n",
    "import plotly.graph_objects as go\n",
    "from ipywidgets import widgets\n",
    "from IPython.display import HTML"
   ]
  },
  {
   "cell_type": "markdown",
   "id": "1324b909",
   "metadata": {},
   "source": [
    "## Final Dash"
   ]
  },
  {
   "cell_type": "code",
   "execution_count": 5,
   "id": "c584dc97",
   "metadata": {},
   "outputs": [
    {
     "data": {
      "application/vnd.jupyter.widget-view+json": {
       "model_id": "0ee70b1ee2cd49fc95dd4a97841d92a3",
       "version_major": 2,
       "version_minor": 0
      },
      "text/html": [
       "<p>Failed to display Jupyter Widget of type <code>VBox</code>.</p>\n",
       "<p>\n",
       "  If you're reading this message in the Jupyter Notebook or JupyterLab Notebook, it may mean\n",
       "  that the widgets JavaScript is still loading. If this message persists, it\n",
       "  likely means that the widgets JavaScript library is either not installed or\n",
       "  not enabled. See the <a href=\"https://ipywidgets.readthedocs.io/en/stable/user_install.html\">Jupyter\n",
       "  Widgets Documentation</a> for setup instructions.\n",
       "</p>\n",
       "<p>\n",
       "  If you're reading this message in another frontend (for example, a static\n",
       "  rendering on GitHub or <a href=\"https://nbviewer.jupyter.org/\">NBViewer</a>),\n",
       "  it may mean that your frontend doesn't currently support widgets.\n",
       "</p>\n"
      ],
      "text/plain": [
       "VBox(children=(Button(button_style='success', description='Load', icon='check', style=ButtonStyle(), tooltip='Click me'), FloatSlider(value=0.1, description='upRight', max=1.0, min=0.001, step=0.05), FloatSlider(value=0.1, description='upLeft', max=1.0, min=0.001, step=0.05), FloatSlider(value=0.1, description='downRight', max=1.0, min=0.001, step=0.05), FloatSlider(value=0.1, description='downLeft', max=1.0, min=0.001, step=0.05), FloatSlider(value=0.1, description='center', max=1.0, min=0.001, step=0.05)))"
      ]
     },
     "metadata": {},
     "output_type": "display_data"
    }
   ],
   "source": [
    "\n",
    "button_apply_df = widgets.Button(\n",
    "    description='Load',\n",
    "    disabled=False,\n",
    "    button_style='success', # 'success', 'info', 'warning', 'danger' or ''\n",
    "    tooltip='Click me',\n",
    "    icon='check' # (FontAwesome names without the `fa-` prefix)\n",
    ")\n",
    "\n",
    "threshold_hyperboles_dict = {}\n",
    "for key in ['upRight','upLeft','downRight','downLeft','center']:\n",
    "    threshold_hyper_slider = widgets.FloatSlider(\n",
    "        value=0.1,\n",
    "        min=0.001,\n",
    "        max=1,\n",
    "        step=0.05,\n",
    "        description=key,\n",
    "        disabled=False,\n",
    "        continuous_update=True,\n",
    "        orientation='horizontal',\n",
    "        readout=True,\n",
    "        readout_format='.2f'\n",
    "    )\n",
    "    threshold_hyperboles_dict[key] = threshold_hyper_slider\n",
    "\n",
    "\n",
    "widgets.VBox([button_apply_df]+[th for key,th in threshold_hyperboles_dict.items()])"
   ]
  },
  {
   "cell_type": "code",
   "execution_count": null,
   "id": "dc4fd423",
   "metadata": {},
   "outputs": [],
   "source": []
  }
 ],
 "metadata": {
  "kernelspec": {
   "display_name": "Python 3",
   "language": "python",
   "name": "python3"
  },
  "language_info": {
   "codemirror_mode": {
    "name": "ipython",
    "version": 3
   },
   "file_extension": ".py",
   "mimetype": "text/x-python",
   "name": "python",
   "nbconvert_exporter": "python",
   "pygments_lexer": "ipython3",
   "version": "3.8.8"
  }
 },
 "nbformat": 4,
 "nbformat_minor": 5
}
